{
 "cells": [
  {
   "cell_type": "code",
   "execution_count": 1,
   "metadata": {},
   "outputs": [],
   "source": [
    "class Node:\n",
    "    def __init__(self,value):\n",
    "        self.value = value\n",
    "        self.next = None"
   ]
  },
  {
   "cell_type": "code",
   "execution_count": 211,
   "metadata": {},
   "outputs": [],
   "source": [
    "class LinkedList:\n",
    "    def __init(self):\n",
    "        self.head = None\n",
    "        \n",
    "    def printlist(self):\n",
    "        temp = self.head\n",
    "        while temp is not None:\n",
    "            print(temp.value)\n",
    "            temp = temp.next\n",
    "    \n",
    "    def addFront(self,value):\n",
    "        tempNode = Node(value)\n",
    "        tempNode.next = self.head\n",
    "        self.head = tempNode\n",
    "        \n",
    "    def addEnd(self,value):\n",
    "        tempNode = Node(value)\n",
    "        temp = self.head\n",
    "        while temp.next:\n",
    "            temp = temp.next\n",
    "        temp.next = tempNode\n",
    "        \n",
    "    def addInBetween(self, afterV, value):\n",
    "        tempNode = Node(value)\n",
    "        temp = self.head\n",
    "        while temp.next:\n",
    "            if temp.value == afterV:\n",
    "                tempNode.next = temp.next\n",
    "                temp.next = tempNode\n",
    "                print('Node with value {} is inseted after node {}'.format(value,afterV))\n",
    "                break\n",
    "            temp = temp.next\n",
    "            if temp.next is None:\n",
    "                print('After Value not found')\n",
    "    \n",
    "    def delNode(self,value):\n",
    "        temp = self.head\n",
    "        while temp is not None:\n",
    "            if temp.value == value:\n",
    "                break\n",
    "            prev = temp\n",
    "            temp = temp.next\n",
    "        if temp == None:\n",
    "            print(\"Node not found\")\n",
    "            return\n",
    "           \n",
    "        prev.next = temp.next\n",
    "                \n",
    "                \n",
    "                "
   ]
  },
  {
   "cell_type": "code",
   "execution_count": 212,
   "metadata": {},
   "outputs": [],
   "source": [
    "n1 = Node(1)\n",
    "n2 = Node(2)\n",
    "n3 = Node(3)\n",
    "llist = LinkedList()\n",
    "llist.head = n1\n",
    "n1.next = n2\n",
    "n2.next = n3\n",
    "n3.next = None\n"
   ]
  },
  {
   "cell_type": "code",
   "execution_count": 213,
   "metadata": {},
   "outputs": [
    {
     "name": "stdout",
     "output_type": "stream",
     "text": [
      "0\n",
      "1\n",
      "2\n",
      "3\n",
      "4\n"
     ]
    }
   ],
   "source": [
    "llist.addFront(0)\n",
    "llist.addEnd(4)\n",
    "llist.printlist()"
   ]
  },
  {
   "cell_type": "code",
   "execution_count": 216,
   "metadata": {},
   "outputs": [
    {
     "name": "stdout",
     "output_type": "stream",
     "text": [
      "Node not found\n"
     ]
    }
   ],
   "source": [
    "llist.delNode(7)\n",
    "\n"
   ]
  },
  {
   "cell_type": "code",
   "execution_count": 217,
   "metadata": {},
   "outputs": [
    {
     "name": "stdout",
     "output_type": "stream",
     "text": [
      "0\n",
      "1\n",
      "2\n",
      "3\n"
     ]
    }
   ],
   "source": [
    "llist.printlist()"
   ]
  },
  {
   "cell_type": "code",
   "execution_count": null,
   "metadata": {},
   "outputs": [],
   "source": []
  }
 ],
 "metadata": {
  "kernelspec": {
   "display_name": "Python 3.8.3 64-bit",
   "language": "python",
   "name": "python38364bit37bdc8fef16543d2a7f0a572cfa493de"
  },
  "language_info": {
   "codemirror_mode": {
    "name": "ipython",
    "version": 3
   },
   "file_extension": ".py",
   "mimetype": "text/x-python",
   "name": "python",
   "nbconvert_exporter": "python",
   "pygments_lexer": "ipython3",
   "version": "3.8.3-final"
  }
 },
 "nbformat": 4,
 "nbformat_minor": 2
}